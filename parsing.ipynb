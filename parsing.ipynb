{
 "cells": [
  {
   "cell_type": "code",
   "execution_count": null,
   "id": "c575b7f1",
   "metadata": {},
   "outputs": [],
   "source": [
    "import requests\n",
    "from bs4 import BeautifulSoup\n",
    "import pandas as pd\n",
    "from transformers import AutoModelForSequenceClassification, TFAutoModelForSequenceClassification\n",
    "from transformers import AutoTokenizer\n",
    "import numpy as np\n",
    "from scipy.special import expit"
   ]
  },
  {
   "cell_type": "code",
   "execution_count": null,
   "id": "1fa000bb",
   "metadata": {},
   "outputs": [],
   "source": [
    "data = pd.DataFrame()\n",
    "MAIN_URL = '' #Main URL -replaced.\n",
    "URL = ''  # Source URL - replaced"
   ]
  },
  {
   "cell_type": "code",
   "execution_count": null,
   "id": "453f53b5",
   "metadata": {},
   "outputs": [],
   "source": [
    "response = requests.get(url)\n",
    "if response.status_code == 200:\n",
    "    soup = BeautifulSoup(response.text, 'html.parser')\n",
    "    target_links = soup.find_all('a', href=True, hreflang='und')    \n",
    "else:\n",
    "    print(f'Failed to retrieve the page. Status code: {response.status_code}')"
   ]
  },
  {
   "cell_type": "code",
   "execution_count": null,
   "id": "e4d736fd",
   "metadata": {},
   "outputs": [],
   "source": [
    "for link in target_links:\n",
    "        href = MAIN_URL + link['href']\n",
    "        title = link.text\n",
    "        data = data.append({'Link': href, 'Title': title}, ignore_index=True)"
   ]
  },
  {
   "cell_type": "code",
   "execution_count": null,
   "id": "c99ea297",
   "metadata": {},
   "outputs": [],
   "source": [
    "def parse_text(url,data):\n",
    "    text = str()\n",
    "    response = requests.get(url)\n",
    "    if response.status_code == 200:\n",
    "        soup = BeautifulSoup(response.text, 'html.parser')   \n",
    "        target_elements = soup.find_all(class_=[\"field field--name-field-reading-text field--type-text-long field--label-hidden field--item\"]) \n",
    "        if len(target_elements) > 0:\n",
    "            text = target_elements[0].text\n",
    "    else:\n",
    "        print(f'Failed to retrieve the page. Status code: {response.status_code}')\n",
    "    return text\n"
   ]
  },
  {
   "cell_type": "code",
   "execution_count": null,
   "id": "4b7c4cd6",
   "metadata": {},
   "outputs": [],
   "source": [
    "data['Text'] = 0\n",
    "for i in range (len(data['Link'])):\n",
    "    print(data['Link'][i])\n",
    "    data['Text'][i] = parse_text(data['Link'][i],data)\n",
    "    #print(parse_text(data['Link'][i],data))"
   ]
  },
  {
   "cell_type": "code",
   "execution_count": null,
   "id": "e78da16e",
   "metadata": {},
   "outputs": [],
   "source": [
    "MODEL = f\"cardiffnlp/tweet-topic-21-multi\"\n",
    "tokenizer = AutoTokenizer.from_pretrained(MODEL)\n",
    "\n",
    "tf_model = TFAutoModelForSequenceClassification.from_pretrained(MODEL)\n",
    "class_mapping = tf_model.config.id2label\n",
    "for i in range(len(data['Text'])):\n",
    "    text = data[\"Text\"][i]\n",
    "    print(text)\n",
    "    tokens = tokenizer(text, return_tensors='tf')\n",
    "    output = tf_model(**tokens)\n",
    "    scores = output[0][0]\n",
    "    scores = expit(scores)\n",
    "    predictions = (scores >= 0.5) * 1\n",
    "    # Map to classes\n",
    "    for j in range(len(predictions)):\n",
    "        if predictions[j]:\n",
    "            data['Theme'][i] = class_mapping[j]"
   ]
  }
 ],
 "metadata": {
  "kernelspec": {
   "display_name": "Python 3 (ipykernel)",
   "language": "python",
   "name": "python3"
  },
  "language_info": {
   "codemirror_mode": {
    "name": "ipython",
    "version": 3
   },
   "file_extension": ".py",
   "mimetype": "text/x-python",
   "name": "python",
   "nbconvert_exporter": "python",
   "pygments_lexer": "ipython3",
   "version": "3.8.10"
  }
 },
 "nbformat": 4,
 "nbformat_minor": 5
}
